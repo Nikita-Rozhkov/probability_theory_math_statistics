{
  "nbformat": 4,
  "nbformat_minor": 0,
  "metadata": {
    "colab": {
      "name": "tp_hw_les3.ipynb",
      "provenance": [],
      "collapsed_sections": [
        "AP9uy9u5CA7v"
      ]
    },
    "kernelspec": {
      "name": "python3",
      "display_name": "Python 3"
    },
    "language_info": {
      "name": "python"
    }
  },
  "cells": [
    {
      "cell_type": "code",
      "metadata": {
        "id": "XCE-C_FWC7RZ"
      },
      "source": [
        "from math import factorial, exp\n",
        "import numpy as np"
      ],
      "execution_count": null,
      "outputs": []
    },
    {
      "cell_type": "code",
      "metadata": {
        "id": "uSpaQ-WyDDHe"
      },
      "source": [
        "def combinations(n, k):\n",
        "    return int(factorial(n) / (factorial(k) * factorial(n - k)))"
      ],
      "execution_count": null,
      "outputs": []
    },
    {
      "cell_type": "markdown",
      "metadata": {
        "id": "OD-MxtjEBw2E"
      },
      "source": [
        "# Домашнее задание к уроку 3\n"
      ]
    },
    {
      "cell_type": "markdown",
      "metadata": {
        "id": "AP9uy9u5CA7v"
      },
      "source": [
        "## Задание 1"
      ]
    },
    {
      "cell_type": "markdown",
      "metadata": {
        "id": "ndU8Bd-ACIWs"
      },
      "source": [
        "Даны значения зарплат из выборки выпускников: 100, 80, 75, 77, 89, 33, 45, 25, 65, 17, 30, 24, 57, 55, 70, 75, 65, 84, 90, 150. Посчитать (желательно без использования статистических методов наподобие std, var, mean) среднее арифметическое, среднее квадратичное отклонение, смещенную и несмещенную оценки дисперсий для данной выборки."
      ]
    },
    {
      "cell_type": "code",
      "metadata": {
        "id": "8zxnViC9D43L"
      },
      "source": [
        "# выборка зарплат выпускников\n",
        "salary = np.array([100, 80, 75, 77, 89, 33, 45, 25, 65, 17, 30, 24, 57, 55, 70, 75, 65, 84, 90, 150])"
      ],
      "execution_count": null,
      "outputs": []
    },
    {
      "cell_type": "code",
      "metadata": {
        "colab": {
          "base_uri": "https://localhost:8080/"
        },
        "id": "BRgmIGAUaJIY",
        "outputId": "4d2c231b-f366-4aa8-8207-d9ee56749e43"
      },
      "source": [
        "# вычисление среднего арифметического\n",
        "average = np.sum(salary) / len(salary)\n",
        "average"
      ],
      "execution_count": null,
      "outputs": [
        {
          "output_type": "execute_result",
          "data": {
            "text/plain": [
              "65.3"
            ]
          },
          "metadata": {
            "tags": []
          },
          "execution_count": 30
        }
      ]
    },
    {
      "cell_type": "code",
      "metadata": {
        "colab": {
          "base_uri": "https://localhost:8080/"
        },
        "id": "o8n2sY10dYCH",
        "outputId": "c20c6d52-d6bb-413f-864d-010b859a5b2a"
      },
      "source": [
        "# среднее квадратичное отклонение\n",
        "deviation = round(np.sqrt(np.sum((salary - average)**2) / len(salary)), 2)\n",
        "deviation"
      ],
      "execution_count": null,
      "outputs": [
        {
          "output_type": "execute_result",
          "data": {
            "text/plain": [
              "30.82"
            ]
          },
          "metadata": {
            "tags": []
          },
          "execution_count": 31
        }
      ]
    },
    {
      "cell_type": "code",
      "metadata": {
        "colab": {
          "base_uri": "https://localhost:8080/"
        },
        "id": "7A6Yt4lCeHya",
        "outputId": "3781cb88-c3d2-4dda-9a74-116138983399"
      },
      "source": [
        "# смещённая оценка дисперсии\n",
        "dispersion = np.sum((salary - average)**2) / len(salary)\n",
        "dispersion\n"
      ],
      "execution_count": null,
      "outputs": [
        {
          "output_type": "execute_result",
          "data": {
            "text/plain": [
              "950.11"
            ]
          },
          "metadata": {
            "tags": []
          },
          "execution_count": 32
        }
      ]
    },
    {
      "cell_type": "code",
      "metadata": {
        "colab": {
          "base_uri": "https://localhost:8080/"
        },
        "id": "8yyQS7KGidMq",
        "outputId": "e0ec6c1a-3e87-4d8a-e01b-7c138d59a33f"
      },
      "source": [
        "# несмещённая оценка дисперсии\n",
        "dispersion_non =round(np.sum((salary - average)**2) / (len(salary) - 1), 2)\n",
        "dispersion_non"
      ],
      "execution_count": null,
      "outputs": [
        {
          "output_type": "execute_result",
          "data": {
            "text/plain": [
              "1000.12"
            ]
          },
          "metadata": {
            "tags": []
          },
          "execution_count": 33
        }
      ]
    },
    {
      "cell_type": "markdown",
      "metadata": {
        "id": "fxUSrvJSFXc5"
      },
      "source": [
        "**Ответ**: Среднее арифметическое значение данной выборки равно 65.3, среднее квадратичное отклонение - 30.82, смещённая оценка дисперсии - 950.11, несмещённая оценка дисперсии - 1000.12"
      ]
    },
    {
      "cell_type": "markdown",
      "metadata": {
        "id": "02bIj1Q2QyyR"
      },
      "source": [
        "## Задание 2"
      ]
    },
    {
      "cell_type": "markdown",
      "metadata": {
        "id": "vzZN7KdIQ77v"
      },
      "source": [
        "В первом ящике находится 8 мячей, из которых 5 - белые. Во втором ящике - 12 мячей, из которых 5 белых. Из первого ящика вытаскивают случайным образом два мяча, из второго - 4. Какова вероятность того, что 3 мяча белые?"
      ]
    },
    {
      "cell_type": "code",
      "metadata": {
        "colab": {
          "base_uri": "https://localhost:8080/"
        },
        "id": "s1wnUhpGRi_u",
        "outputId": "8720ec4e-17e5-44de-de9a-e05784930b69"
      },
      "source": [
        "# Из первого ящика вытаскивают 1 белый шар, а из второго - 2 белых\n",
        "p1 = (combinations(5, 1) * combinations(3, 1)) / combinations(8, 2) * (combinations(5, 2) * combinations(7, 2) / combinations(12, 4))\n",
        "print(p1)\n",
        "# Из первого ящика не вытаскивают белых мячей, а из второго - 3 белых и 1 чёрный\n",
        "p2 = (combinations(5, 0) * combinations(3, 2)) / combinations(8, 2) * (combinations(5, 3) * combinations(7, 1)) / combinations(12, 4)\n",
        "print(p2)\n",
        "# Из первого ящика достают 2 белых, а из второго - 1 белый\n",
        "p3 = (combinations(5, 2) * combinations(3, 0)) / combinations(8, 2) * (combinations(5, 1) * combinations(7, 3)) / combinations(12, 4)\n",
        "print(p3)"
      ],
      "execution_count": null,
      "outputs": [
        {
          "output_type": "stream",
          "text": [
            "0.22727272727272727\n",
            "0.015151515151515152\n",
            "0.12626262626262627\n"
          ],
          "name": "stdout"
        }
      ]
    },
    {
      "cell_type": "code",
      "metadata": {
        "colab": {
          "base_uri": "https://localhost:8080/"
        },
        "id": "ESQScpCJSM_Q",
        "outputId": "62ab53da-6ced-4c8a-e73b-1ddb620ec240"
      },
      "source": [
        "# Полученные вероятности складываем, т.к. данные события не происходят одновременно\n",
        "p = p1 + p2 + p3\n",
        "print(round(p, 3))"
      ],
      "execution_count": null,
      "outputs": [
        {
          "output_type": "stream",
          "text": [
            "0.369\n"
          ],
          "name": "stdout"
        }
      ]
    },
    {
      "cell_type": "markdown",
      "metadata": {
        "id": "AB8rogV9Scr4"
      },
      "source": [
        "**Ответ:** Вероятность того, что три мяча белые - 0,369"
      ]
    },
    {
      "cell_type": "markdown",
      "metadata": {
        "id": "OrlNPUpgS04x"
      },
      "source": [
        "## Задание 3"
      ]
    },
    {
      "cell_type": "markdown",
      "metadata": {
        "id": "a1cggWUzS9hp"
      },
      "source": [
        "На соревновании по биатлону один из трех спортсменов стреляет и попадает в мишень. Вероятность попадания для первого спортсмена равна 0.9, для второго — 0.8, для третьего — 0.6. Найти вероятность того, что выстрел произведен: a). первым спортсменом б). вторым спортсменом в). третьим спортсменом."
      ]
    },
    {
      "cell_type": "code",
      "metadata": {
        "colab": {
          "base_uri": "https://localhost:8080/"
        },
        "id": "M6We-PsvT7c7",
        "outputId": "c1980d6e-f0d7-4210-d142-b362e21442d6"
      },
      "source": [
        "# Вероятность того, что стреляет любой из спортсменов равна 1/3\n",
        "# По формуле полной вероятности\n",
        "P = 1/3 * (0.9 + 0.8 + 0.6)\n",
        "print(P)"
      ],
      "execution_count": null,
      "outputs": [
        {
          "output_type": "stream",
          "text": [
            "0.7666666666666667\n"
          ],
          "name": "stdout"
        }
      ]
    },
    {
      "cell_type": "code",
      "metadata": {
        "id": "2IfnTEreZHDK"
      },
      "source": [
        "def bayes(p, P):\n",
        "  return round((1/3 * p) / P, 3)"
      ],
      "execution_count": null,
      "outputs": []
    },
    {
      "cell_type": "code",
      "metadata": {
        "colab": {
          "base_uri": "https://localhost:8080/"
        },
        "id": "jCSXorLsZbcc",
        "outputId": "3fde08f5-ce05-4e0c-aee4-efa256a84f64"
      },
      "source": [
        "# Применим формулу Байеса для каждого спортсмена\n",
        "print(bayes(0.9, P))\n",
        "print(bayes(0.8, P))\n",
        "print(bayes(0.6, P))"
      ],
      "execution_count": null,
      "outputs": [
        {
          "output_type": "stream",
          "text": [
            "0.391\n",
            "0.348\n",
            "0.261\n"
          ],
          "name": "stdout"
        }
      ]
    },
    {
      "cell_type": "markdown",
      "metadata": {
        "id": "6PRwZs3uUQR_"
      },
      "source": [
        "**Ответ:** Вероятность того, что выстрел произведён первым спортсменом - 0.391, вторым - 0.348 и третьим - 0.261"
      ]
    },
    {
      "cell_type": "markdown",
      "metadata": {
        "id": "AWlVNVMvUx3O"
      },
      "source": [
        "## Задание 4"
      ]
    },
    {
      "cell_type": "markdown",
      "metadata": {
        "id": "BoLLwvFFU3jx"
      },
      "source": [
        "В университет на факультеты A и B поступило равное количество студентов, а на факультет C студентов поступило столько же, сколько на A и B вместе. Вероятность того, что студент факультета A сдаст первую сессию, равна 0.8. Для студента факультета B эта вероятность равна 0.7, а для студента факультета C - 0.9. Студент сдал первую сессию. Какова вероятность, что он учится: a). на факультете A б). на факультете B в). на факультете C?"
      ]
    },
    {
      "cell_type": "code",
      "metadata": {
        "colab": {
          "base_uri": "https://localhost:8080/"
        },
        "id": "maypTTGcVoea",
        "outputId": "c3b0f6f5-1c97-4a66-8c95-55cc7f5f2232"
      },
      "source": [
        "# вероятность того, что студент окажется с факультета А или B - 1/4, а с факультета С - 1/2\n",
        "p1, p2 = 0.25, 0.5\n",
        "# по формуле полной вероятности\n",
        "P = p1 * 0.8 + p1 *0.7 + p2 * 0.9\n",
        "print(P)"
      ],
      "execution_count": null,
      "outputs": [
        {
          "output_type": "stream",
          "text": [
            "0.825\n"
          ],
          "name": "stdout"
        }
      ]
    },
    {
      "cell_type": "code",
      "metadata": {
        "id": "9amWA917cDhd"
      },
      "source": [
        "def bayes(p, P, p0):\n",
        "  return round((p0 * p) / P, 3)"
      ],
      "execution_count": null,
      "outputs": []
    },
    {
      "cell_type": "code",
      "metadata": {
        "colab": {
          "base_uri": "https://localhost:8080/"
        },
        "id": "pZaLniQqcNmV",
        "outputId": "248f7ea7-b757-4944-f861-ea5175fcf970"
      },
      "source": [
        "# рассчитаем вероятность сдачи экзамена для студента с каждого факультета\n",
        "print(bayes(0.8, P, p1))\n",
        "print(bayes(0.7, P, p1))\n",
        "print(bayes(0.9, P, p2))\n"
      ],
      "execution_count": null,
      "outputs": [
        {
          "output_type": "stream",
          "text": [
            "0.242\n",
            "0.212\n",
            "0.545\n"
          ],
          "name": "stdout"
        }
      ]
    },
    {
      "cell_type": "markdown",
      "metadata": {
        "id": "MPAh1TXUV4XF"
      },
      "source": [
        "**Ответ:** Вероятность того, что студент учится на факультете А - 0.242, факультете В - 0.212, факультете С - 0.545"
      ]
    },
    {
      "cell_type": "markdown",
      "metadata": {
        "id": "YFS1ExkZdTMW"
      },
      "source": [
        "### Задание 5"
      ]
    },
    {
      "cell_type": "markdown",
      "metadata": {
        "id": "XDkhVs5OdZQB"
      },
      "source": [
        "Устройство состоит из трех деталей. Для первой детали вероятность выйти из строя в первый месяц равна 0.1, для второй - 0.2, для третьей - 0.25. Какова вероятность того, что в первый месяц выйдут из строя: а). все детали б). только две детали в). хотя бы одна деталь г). от одной до двух деталей?"
      ]
    },
    {
      "cell_type": "code",
      "metadata": {
        "colab": {
          "base_uri": "https://localhost:8080/"
        },
        "id": "9RhkW_9WdsVY",
        "outputId": "d45a3c3e-59d8-4d4c-fc12-1c7427f5a426"
      },
      "source": [
        "p1, p2, p3 = 0.1, 0.2, 0.25\n",
        "# вероятность выхода всех деталей из строя\n",
        "p_a = p1 * p2 * p3\n",
        "print(round(p_a, 3))"
      ],
      "execution_count": null,
      "outputs": [
        {
          "output_type": "stream",
          "text": [
            "0.005\n"
          ],
          "name": "stdout"
        }
      ]
    },
    {
      "cell_type": "code",
      "metadata": {
        "colab": {
          "base_uri": "https://localhost:8080/"
        },
        "id": "ic9bpbUbhnu7",
        "outputId": "106b76b2-ef8d-4b3a-ffdb-d09bdd721e6b"
      },
      "source": [
        "# вероятность выхода из строя двух любых деталей\n",
        "p_b = p1 * p2 * (1 - p3) + p1 * p3 * (1 - p2) + p2 * p3 * (1 - p1)\n",
        "print(round(p_b, 3))\n"
      ],
      "execution_count": null,
      "outputs": [
        {
          "output_type": "stream",
          "text": [
            "0.08\n"
          ],
          "name": "stdout"
        }
      ]
    },
    {
      "cell_type": "code",
      "metadata": {
        "colab": {
          "base_uri": "https://localhost:8080/"
        },
        "id": "qI0p9XCdihYH",
        "outputId": "f721dabf-8406-43cb-e2ad-b262662cb6bd"
      },
      "source": [
        "# вероятность выхода из строя хотя бы одной детали\n",
        "p_c = 1 - (1 - p1) * (1 - p2) * (1 - p3)\n",
        "print(round(p_c, 3))"
      ],
      "execution_count": null,
      "outputs": [
        {
          "output_type": "stream",
          "text": [
            "0.46\n"
          ],
          "name": "stdout"
        }
      ]
    },
    {
      "cell_type": "code",
      "metadata": {
        "colab": {
          "base_uri": "https://localhost:8080/"
        },
        "id": "AaSewQbzjDHU",
        "outputId": "6a4281c2-21eb-4a85-d1d2-6479998a1e6a"
      },
      "source": [
        "# вероятность выхода из строя от одной до двух деталей\n",
        "p_d = 1 - (1 - p1) * (1 - p2)* (1 - p3) - p1 * p2 * p3\n",
        "print(round(p_d, 3))"
      ],
      "execution_count": null,
      "outputs": [
        {
          "output_type": "stream",
          "text": [
            "0.455\n"
          ],
          "name": "stdout"
        }
      ]
    },
    {
      "cell_type": "markdown",
      "metadata": {
        "id": "FOrg78ucjnPm"
      },
      "source": [
        "**Ответ:** вероятность выхода всех деталей из строя - 0.005, вероятность выхода из строя двух любых деталей - 0.08, вероятность выхода из строя хотя бы одной детали - 0.46, вероятность выхода из строя от одной до двух деталей 0,455"
      ]
    }
  ]
}