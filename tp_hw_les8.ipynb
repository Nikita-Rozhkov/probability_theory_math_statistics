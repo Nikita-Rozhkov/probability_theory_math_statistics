{
  "nbformat": 4,
  "nbformat_minor": 0,
  "metadata": {
    "colab": {
      "name": "tp_hw_les8.ipynb",
      "provenance": [],
      "collapsed_sections": []
    },
    "kernelspec": {
      "name": "python3",
      "display_name": "Python 3"
    },
    "language_info": {
      "name": "python"
    }
  },
  "cells": [
    {
      "cell_type": "code",
      "metadata": {
        "id": "5Z6OFteEvDk2"
      },
      "source": [
        "import numpy as np"
      ],
      "execution_count": 30,
      "outputs": []
    },
    {
      "cell_type": "markdown",
      "metadata": {
        "id": "OD-MxtjEBw2E"
      },
      "source": [
        "# Домашнее задание к уроку 8\n"
      ]
    },
    {
      "cell_type": "markdown",
      "metadata": {
        "id": "AP9uy9u5CA7v"
      },
      "source": [
        "## Задание 1"
      ]
    },
    {
      "cell_type": "markdown",
      "metadata": {
        "id": "ndU8Bd-ACIWs"
      },
      "source": [
        "Провести дисперсионный анализ для определения того, есть ли различия среднего роста среди взрослых футболистов, хоккеистов и штангистов. Даны значения роста в трех группах случайно выбранных спортсменов: Футболисты: 173, 175, 180, 178, 177, 185, 183, 182. Хоккеисты: 177, 179, 180, 188, 177, 172, 171, 184, 180. Штангисты: 172, 173, 169, 177, 166, 180, 178, 177, 172, 166, 170."
      ]
    },
    {
      "cell_type": "code",
      "metadata": {
        "id": "opIbQdiFyU_6"
      },
      "source": [
        "y1 = np.array([173, 175, 180, 178, 177, 185, 183, 182]) #футболисты\n",
        "y2 = np.array([177, 179, 180, 188, 177, 172, 171, 184, 180]) #хоккеисты\n",
        "y3 = np.array([172, 173, 169, 177, 166, 180, 178, 177, 172, 166, 170]) #штангисты"
      ],
      "execution_count": 31,
      "outputs": []
    },
    {
      "cell_type": "code",
      "metadata": {
        "colab": {
          "base_uri": "https://localhost:8080/"
        },
        "id": "_vqEId1qy0j6",
        "outputId": "cf3d36fc-1042-4554-c087-775670ddcbe0"
      },
      "source": [
        "# общее количество спортсменов и количество спортсменов в каждой группе\n",
        "n1 = len(y1)\n",
        "n2 = len(y2)\n",
        "n3 = len(y3)\n",
        "n = n1 + n2 + n3\n",
        "n"
      ],
      "execution_count": 32,
      "outputs": [
        {
          "output_type": "execute_result",
          "data": {
            "text/plain": [
              "28"
            ]
          },
          "metadata": {},
          "execution_count": 32
        }
      ]
    },
    {
      "cell_type": "code",
      "metadata": {
        "id": "7rPkZpm9zeW0"
      },
      "source": [
        "# количество групп\n",
        "k = 3"
      ],
      "execution_count": 33,
      "outputs": []
    },
    {
      "cell_type": "code",
      "metadata": {
        "colab": {
          "base_uri": "https://localhost:8080/"
        },
        "id": "2MElJ2JP5KQV",
        "outputId": "8b7031cf-f6c6-49d3-db88-f4d03735f4c9"
      },
      "source": [
        "# вычисление средних по каждой группе спортсменов\n",
        "y1_mean = np.mean(y1)\n",
        "y2_mean = np.mean(y2)\n",
        "y3_mean = np.mean(y3)\n",
        "y1_mean, y2_mean, y3_mean  "
      ],
      "execution_count": 34,
      "outputs": [
        {
          "output_type": "execute_result",
          "data": {
            "text/plain": [
              "(179.125, 178.66666666666666, 172.72727272727272)"
            ]
          },
          "metadata": {},
          "execution_count": 34
        }
      ]
    },
    {
      "cell_type": "code",
      "metadata": {
        "colab": {
          "base_uri": "https://localhost:8080/"
        },
        "id": "c5nlVOKn7Bve",
        "outputId": "5b6e9540-7370-4294-f3d6-ca7870f51e76"
      },
      "source": [
        "# объединим значения из всех групп в один вектор\n",
        "y_all = np.concatenate([y1, y2, y3])\n",
        "y_all"
      ],
      "execution_count": 35,
      "outputs": [
        {
          "output_type": "execute_result",
          "data": {
            "text/plain": [
              "array([173, 175, 180, 178, 177, 185, 183, 182, 177, 179, 180, 188, 177,\n",
              "       172, 171, 184, 180, 172, 173, 169, 177, 166, 180, 178, 177, 172,\n",
              "       166, 170])"
            ]
          },
          "metadata": {},
          "execution_count": 35
        }
      ]
    },
    {
      "cell_type": "code",
      "metadata": {
        "colab": {
          "base_uri": "https://localhost:8080/"
        },
        "id": "GlUzsbUXwFcz",
        "outputId": "53c7096c-aead-46be-be01-f5be4401a6d1"
      },
      "source": [
        "# вычислим среднее по всем значениям\n",
        "y_mean = np.mean(y_all)\n",
        "y_mean"
      ],
      "execution_count": 36,
      "outputs": [
        {
          "output_type": "execute_result",
          "data": {
            "text/plain": [
              "176.46428571428572"
            ]
          },
          "metadata": {},
          "execution_count": 36
        }
      ]
    },
    {
      "cell_type": "code",
      "metadata": {
        "colab": {
          "base_uri": "https://localhost:8080/"
        },
        "id": "NFa3H99pwogs",
        "outputId": "ae771c1a-e1a9-40eb-df1d-4ddd3fb5c52a"
      },
      "source": [
        "# вычислим сумму квадратов отклонений от общего среднего\n",
        "s2 = np.sum((y_all - y_mean)**2)\n",
        "s2"
      ],
      "execution_count": 37,
      "outputs": [
        {
          "output_type": "execute_result",
          "data": {
            "text/plain": [
              "830.9642857142854"
            ]
          },
          "metadata": {},
          "execution_count": 37
        }
      ]
    },
    {
      "cell_type": "code",
      "metadata": {
        "colab": {
          "base_uri": "https://localhost:8080/"
        },
        "id": "SLNxiPH7xF2p",
        "outputId": "118a8670-601d-4729-d137-6b61d1f284b0"
      },
      "source": [
        "# вычислим сумму квадратов отклонений средних групповых значений от общего среднего\n",
        "s2_f = ((y1_mean - y_mean)**2) * n1 + ((y2_mean - y_mean)**2) * n2 + ((y3_mean - y_mean)**2) * n3\n",
        "s2_f"
      ],
      "execution_count": 38,
      "outputs": [
        {
          "output_type": "execute_result",
          "data": {
            "text/plain": [
              "253.9074675324678"
            ]
          },
          "metadata": {},
          "execution_count": 38
        }
      ]
    },
    {
      "cell_type": "code",
      "metadata": {
        "colab": {
          "base_uri": "https://localhost:8080/"
        },
        "id": "32bsy-iFxtkX",
        "outputId": "b4bf37e4-4ad7-4029-84a3-25277322ebd3"
      },
      "source": [
        "# вычислим остаточную сумму квадратов отклонений\n",
        "s2_residual = np.sum((y1 - y1_mean)**2) + np.sum((y2 - y2_mean)**2) + np.sum((y3 - y3_mean)**2)\n",
        "s2_residual"
      ],
      "execution_count": 39,
      "outputs": [
        {
          "output_type": "execute_result",
          "data": {
            "text/plain": [
              "577.0568181818182"
            ]
          },
          "metadata": {},
          "execution_count": 39
        }
      ]
    },
    {
      "cell_type": "code",
      "metadata": {
        "colab": {
          "base_uri": "https://localhost:8080/"
        },
        "id": "Ckyiz_9szsmY",
        "outputId": "0dcc126c-1a78-44a3-973a-f90f07ae7e13"
      },
      "source": [
        "# проверим равенство отклонений\n",
        "s2 , (s2_f + s2_residual)"
      ],
      "execution_count": 40,
      "outputs": [
        {
          "output_type": "execute_result",
          "data": {
            "text/plain": [
              "(830.9642857142854, 830.964285714286)"
            ]
          },
          "metadata": {},
          "execution_count": 40
        }
      ]
    },
    {
      "cell_type": "code",
      "metadata": {
        "colab": {
          "base_uri": "https://localhost:8080/"
        },
        "id": "UMIdSyqu0sQH",
        "outputId": "8a0b136b-600c-4733-a73e-a653031a3b79"
      },
      "source": [
        "# вычислим факторную дисперсию\n",
        "sigma2_f = s2_f / (k - 1)\n",
        "sigma2_f"
      ],
      "execution_count": 41,
      "outputs": [
        {
          "output_type": "execute_result",
          "data": {
            "text/plain": [
              "126.9537337662339"
            ]
          },
          "metadata": {},
          "execution_count": 41
        }
      ]
    },
    {
      "cell_type": "code",
      "metadata": {
        "colab": {
          "base_uri": "https://localhost:8080/"
        },
        "id": "1I2SFOTN1u6r",
        "outputId": "2af068f7-b893-4fba-f9dd-3d7ffbdefd4c"
      },
      "source": [
        "# Вычислим остаточную дисперсию\n",
        "sigma2_residual = s2_residual / (n - k)\n",
        "sigma2_residual"
      ],
      "execution_count": 42,
      "outputs": [
        {
          "output_type": "execute_result",
          "data": {
            "text/plain": [
              "23.08227272727273"
            ]
          },
          "metadata": {},
          "execution_count": 42
        }
      ]
    },
    {
      "cell_type": "code",
      "metadata": {
        "colab": {
          "base_uri": "https://localhost:8080/"
        },
        "id": "tMLcHA_l2Vtb",
        "outputId": "7003e67b-2068-418d-c871-b44afe8e606a"
      },
      "source": [
        "# вычислим F_h\n",
        "F_h = sigma2_f / sigma2_residual\n",
        "F_h\n"
      ],
      "execution_count": 43,
      "outputs": [
        {
          "output_type": "execute_result",
          "data": {
            "text/plain": [
              "5.500053450812598"
            ]
          },
          "metadata": {},
          "execution_count": 43
        }
      ]
    },
    {
      "cell_type": "code",
      "metadata": {
        "colab": {
          "base_uri": "https://localhost:8080/"
        },
        "id": "2BqO5dceFhwB",
        "outputId": "dd036a29-0a99-4bf8-82d3-39aa61afe3a7"
      },
      "source": [
        "# уровень значимости и количество степеней свободы\n",
        "alpha = 0.05\n",
        "df_between = k - 1\n",
        "df_inner = n - k\n",
        "df_between, df_inner\n"
      ],
      "execution_count": 44,
      "outputs": [
        {
          "output_type": "execute_result",
          "data": {
            "text/plain": [
              "(2, 25)"
            ]
          },
          "metadata": {},
          "execution_count": 44
        }
      ]
    },
    {
      "cell_type": "code",
      "metadata": {
        "colab": {
          "base_uri": "https://localhost:8080/"
        },
        "id": "etfjpN8xHuv9",
        "outputId": "2ff89d94-0d63-4bc3-cbda-de7f0b77493f"
      },
      "source": [
        "# Из таблицы Фишера \n",
        "F_cr = 3.385\n",
        "F_h > F_cr"
      ],
      "execution_count": 45,
      "outputs": [
        {
          "output_type": "execute_result",
          "data": {
            "text/plain": [
              "True"
            ]
          },
          "metadata": {},
          "execution_count": 45
        }
      ]
    },
    {
      "cell_type": "code",
      "metadata": {
        "colab": {
          "base_uri": "https://localhost:8080/"
        },
        "id": "m2YpC9gqILYt",
        "outputId": "009d86a8-a084-48d9-a445-8d1312fd0e4d"
      },
      "source": [
        "# Проверка\n",
        "from scipy import stats\n",
        "stats.f_oneway(y1, y2, y3)"
      ],
      "execution_count": 46,
      "outputs": [
        {
          "output_type": "execute_result",
          "data": {
            "text/plain": [
              "F_onewayResult(statistic=5.500053450812596, pvalue=0.010482206918698694)"
            ]
          },
          "metadata": {},
          "execution_count": 46
        }
      ]
    },
    {
      "cell_type": "markdown",
      "metadata": {
        "id": "fxUSrvJSFXc5"
      },
      "source": [
        "**Ответ**: Поскольку расчётное значение больше табличного, то различие между группами спортсменов статистически значимое. \n"
      ]
    }
  ]
}