{
  "nbformat": 4,
  "nbformat_minor": 0,
  "metadata": {
    "colab": {
      "name": "tp_hw_les6.ipynb",
      "provenance": [],
      "collapsed_sections": []
    },
    "kernelspec": {
      "name": "python3",
      "display_name": "Python 3"
    },
    "language_info": {
      "name": "python"
    }
  },
  "cells": [
    {
      "cell_type": "code",
      "metadata": {
        "id": "5Z6OFteEvDk2"
      },
      "source": [
        "import numpy as np"
      ],
      "execution_count": 34,
      "outputs": []
    },
    {
      "cell_type": "markdown",
      "metadata": {
        "id": "OD-MxtjEBw2E"
      },
      "source": [
        "# Домашнее задание к уроку 6\n"
      ]
    },
    {
      "cell_type": "markdown",
      "metadata": {
        "id": "AP9uy9u5CA7v"
      },
      "source": [
        "## Задание 1"
      ]
    },
    {
      "cell_type": "markdown",
      "metadata": {
        "id": "ndU8Bd-ACIWs"
      },
      "source": [
        "Даны значения величины заработной платы заемщиков банка (zp) и значения их поведенческого кредитного скоринга (ks):\n",
        "zp = [35, 45, 190, 200, 40, 70, 54, 150, 120, 110],\n",
        "ks = [401, 574, 874, 919, 459, 739, 653, 902, 746, 832].\n",
        "Найдите ковариацию этих двух величин с помощью элементарных действий, а затем с помощью функции cov из numpy\n",
        "Полученные значения должны быть равны.\n",
        "Найдите коэффициент корреляции Пирсона с помощью ковариации и среднеквадратичных отклонений двух признаков,\n",
        "а затем с использованием функций из библиотек numpy и pandas."
      ]
    },
    {
      "cell_type": "code",
      "metadata": {
        "id": "opIbQdiFyU_6"
      },
      "source": [
        "zp = np.array([35, 45, 190, 200, 40, 70, 54, 150, 120, 110])\n",
        "ks = np.array([401, 574, 874, 919, 459, 739, 653, 902, 746, 832]) "
      ],
      "execution_count": 35,
      "outputs": []
    },
    {
      "cell_type": "code",
      "metadata": {
        "colab": {
          "base_uri": "https://localhost:8080/"
        },
        "id": "_vqEId1qy0j6",
        "outputId": "002e1f6d-554f-4d85-d800-bacb34003998"
      },
      "source": [
        "# вычисление ковариации с помощью элементарных действий\n",
        "cov_el = np.mean(zp * ks) - np.mean(zp) * np.mean(ks)\n",
        "cov_el"
      ],
      "execution_count": 36,
      "outputs": [
        {
          "output_type": "execute_result",
          "data": {
            "text/plain": [
              "9157.839999999997"
            ]
          },
          "metadata": {},
          "execution_count": 36
        }
      ]
    },
    {
      "cell_type": "code",
      "metadata": {
        "colab": {
          "base_uri": "https://localhost:8080/"
        },
        "id": "7rPkZpm9zeW0",
        "outputId": "417da5e9-982f-473e-ed94-4031a6206689"
      },
      "source": [
        "# вычисление ковариации с помощью функции cov\n",
        "cov_np =np.cov(zp, ks, ddof = 0)\n",
        "cov_np"
      ],
      "execution_count": 37,
      "outputs": [
        {
          "output_type": "execute_result",
          "data": {
            "text/plain": [
              "array([[ 3494.64,  9157.84],\n",
              "       [ 9157.84, 30468.89]])"
            ]
          },
          "metadata": {},
          "execution_count": 37
        }
      ]
    },
    {
      "cell_type": "code",
      "metadata": {
        "colab": {
          "base_uri": "https://localhost:8080/"
        },
        "id": "2MElJ2JP5KQV",
        "outputId": "0080807d-860f-4bcb-a49b-f245e35e936f"
      },
      "source": [
        "# вычисление коэффициента корреляции по формуле Пирсона\n",
        "std_zp = np.std(zp)\n",
        "std_ks = np.std(ks)\n",
        "r_pirs = cov_el / (std_zp * std_ks)\n",
        "r_pirs"
      ],
      "execution_count": 38,
      "outputs": [
        {
          "output_type": "execute_result",
          "data": {
            "text/plain": [
              "0.8874900920739158"
            ]
          },
          "metadata": {},
          "execution_count": 38
        }
      ]
    },
    {
      "cell_type": "code",
      "metadata": {
        "colab": {
          "base_uri": "https://localhost:8080/"
        },
        "id": "c5nlVOKn7Bve",
        "outputId": "a81009ad-7df8-412f-bc7f-e11555050e6b"
      },
      "source": [
        "# вычисление коэффициента корреляции с помощью функции corrcoef\n",
        "r_np = np.corrcoef(zp, ks)\n",
        "r_np"
      ],
      "execution_count": 39,
      "outputs": [
        {
          "output_type": "execute_result",
          "data": {
            "text/plain": [
              "array([[1.        , 0.88749009],\n",
              "       [0.88749009, 1.        ]])"
            ]
          },
          "metadata": {},
          "execution_count": 39
        }
      ]
    },
    {
      "cell_type": "markdown",
      "metadata": {
        "id": "fxUSrvJSFXc5"
      },
      "source": [
        "**Ответ**: Ковариация величин zp и ks равна 9157.84, а коэффициент корреляции - 0.887\n"
      ]
    },
    {
      "cell_type": "markdown",
      "metadata": {
        "id": "02bIj1Q2QyyR"
      },
      "source": [
        "## Задание 2"
      ]
    },
    {
      "cell_type": "markdown",
      "metadata": {
        "id": "TPVKV0XSAg1C"
      },
      "source": [
        "Измерены значения IQ выборки студентов,\n",
        "обучающихся в местных технических вузах:\n",
        "131, 125, 115, 122, 131, 115, 107, 99, 125, 111.\n",
        "Известно, что в генеральной совокупности IQ распределен нормально.\n",
        "Найдите доверительный интервал для математического ожидания с надежностью 0.95."
      ]
    },
    {
      "cell_type": "code",
      "metadata": {
        "id": "s1wnUhpGRi_u"
      },
      "source": [
        "n = 10\n",
        "x = np.array([131, 125, 115, 122, 131, 115, 107, 99, 125, 111])\n",
        "p = 0.95\n",
        "alpha = 1 - p"
      ],
      "execution_count": 40,
      "outputs": []
    },
    {
      "cell_type": "code",
      "metadata": {
        "colab": {
          "base_uri": "https://localhost:8080/"
        },
        "id": "b0bQf9b5AVV3",
        "outputId": "aefac880-3a1a-41ec-e76e-ba1e752426d9"
      },
      "source": [
        "# Вычислим математическое ожидание для выборки\n",
        "M = np.mean(x)\n",
        "M"
      ],
      "execution_count": 41,
      "outputs": [
        {
          "output_type": "execute_result",
          "data": {
            "text/plain": [
              "118.1"
            ]
          },
          "metadata": {},
          "execution_count": 41
        }
      ]
    },
    {
      "cell_type": "code",
      "metadata": {
        "colab": {
          "base_uri": "https://localhost:8080/"
        },
        "id": "Ts0fdi5jAkmS",
        "outputId": "314b849c-3a99-484f-9791-507b4bc97c40"
      },
      "source": [
        "# Вычислим несмещённое среднеквадратичное отклонение\n",
        "std = np.std(x, ddof = 1)\n",
        "std"
      ],
      "execution_count": 42,
      "outputs": [
        {
          "output_type": "execute_result",
          "data": {
            "text/plain": [
              "10.54566788359614"
            ]
          },
          "metadata": {},
          "execution_count": 42
        }
      ]
    },
    {
      "cell_type": "code",
      "metadata": {
        "colab": {
          "base_uri": "https://localhost:8080/"
        },
        "id": "BG_gHqWMLjsl",
        "outputId": "1ce52f08-4b97-42b7-b659-f5509685f3c5"
      },
      "source": [
        "# Используем критерий Стьюдента, поскольку среднеквадратичное отклонение неизвестно\n",
        "# Из таблицы получаем значение t для alpha/2 и 9 степеней свободы:\n",
        "print(alpha / 2)\n",
        "t = 2.262"
      ],
      "execution_count": 43,
      "outputs": [
        {
          "output_type": "stream",
          "text": [
            "0.025000000000000022\n"
          ],
          "name": "stdout"
        }
      ]
    },
    {
      "cell_type": "code",
      "metadata": {
        "id": "jX640hmsMnIe"
      },
      "source": [
        "# Стандартная ошибка среднего\n",
        "SE = std / n**0.5"
      ],
      "execution_count": 44,
      "outputs": []
    },
    {
      "cell_type": "code",
      "metadata": {
        "colab": {
          "base_uri": "https://localhost:8080/"
        },
        "id": "Yll01A1lMs_J",
        "outputId": "b78990a3-d557-413c-82cb-cd64bb117f93"
      },
      "source": [
        "# Левая граница интервала\n",
        "int_left = M - t * SE\n",
        "int_left"
      ],
      "execution_count": 45,
      "outputs": [
        {
          "output_type": "execute_result",
          "data": {
            "text/plain": [
              "110.55660776308164"
            ]
          },
          "metadata": {},
          "execution_count": 45
        }
      ]
    },
    {
      "cell_type": "code",
      "metadata": {
        "colab": {
          "base_uri": "https://localhost:8080/"
        },
        "id": "-KDo5NbBM0Ov",
        "outputId": "f1a3c656-344e-4c92-88e4-bae555908de1"
      },
      "source": [
        "# Правая граница интервала\n",
        "int_right = M + t * SE\n",
        "int_right"
      ],
      "execution_count": 46,
      "outputs": [
        {
          "output_type": "execute_result",
          "data": {
            "text/plain": [
              "125.64339223691834"
            ]
          },
          "metadata": {},
          "execution_count": 46
        }
      ]
    },
    {
      "cell_type": "markdown",
      "metadata": {
        "id": "AB8rogV9Scr4"
      },
      "source": [
        "**Ответ:** Доверительный интервал для значений IQ с вероятностью 0.95: $[110,56;125,64]$"
      ]
    },
    {
      "cell_type": "markdown",
      "metadata": {
        "id": "OrlNPUpgS04x"
      },
      "source": [
        "## Задание 3"
      ]
    },
    {
      "cell_type": "markdown",
      "metadata": {
        "id": "a1cggWUzS9hp"
      },
      "source": [
        "Известно, что рост футболистов в сборной распределен нормально\n",
        "с дисперсией генеральной совокупности, равной 25 кв.см. Объем выборки равен 27,\n",
        "среднее выборочное составляет 174.2. Найдите доверительный интервал для математического\n",
        "ожидания с надежностью 0.95."
      ]
    },
    {
      "cell_type": "code",
      "metadata": {
        "id": "8zxnViC9D43L"
      },
      "source": [
        "M = 174.2\n",
        "n = 27\n",
        "D = 25\n",
        "p = 0.95\n",
        "alpha = 1 - p"
      ],
      "execution_count": 47,
      "outputs": []
    },
    {
      "cell_type": "code",
      "metadata": {
        "colab": {
          "base_uri": "https://localhost:8080/"
        },
        "id": "4tOV3vPh0uFR",
        "outputId": "170394a9-22c0-4dd3-8875-067c8d80d95e"
      },
      "source": [
        "# Используем z-критерий, поскольку среднеквадратичное отклонение известно\n",
        "# Из таблицы получаем значение z для alpha/2:\n",
        "print(alpha / 2)\n",
        "z = 1.96"
      ],
      "execution_count": 48,
      "outputs": [
        {
          "output_type": "stream",
          "text": [
            "0.025000000000000022\n"
          ],
          "name": "stdout"
        }
      ]
    },
    {
      "cell_type": "code",
      "metadata": {
        "id": "KvT4QaPs2ysj"
      },
      "source": [
        "# Стандартная ошибка среднего\n",
        "SE = D**0.5 / n**0.5"
      ],
      "execution_count": 49,
      "outputs": []
    },
    {
      "cell_type": "code",
      "metadata": {
        "colab": {
          "base_uri": "https://localhost:8080/"
        },
        "id": "O1SOgiCo77nI",
        "outputId": "76ac4724-812d-4ef1-c3de-3749dafb12ed"
      },
      "source": [
        "# Левая граница интервала\n",
        "int_left = M - z * SE\n",
        "int_left"
      ],
      "execution_count": 50,
      "outputs": [
        {
          "output_type": "execute_result",
          "data": {
            "text/plain": [
              "172.31398912064722"
            ]
          },
          "metadata": {},
          "execution_count": 50
        }
      ]
    },
    {
      "cell_type": "code",
      "metadata": {
        "colab": {
          "base_uri": "https://localhost:8080/"
        },
        "id": "glZ_c_Bc8P8F",
        "outputId": "f96359c0-9929-45b8-ac00-4db1602d72b8"
      },
      "source": [
        "# Правая граница интервала\n",
        "int_right = M + z * SE\n",
        "int_right"
      ],
      "execution_count": 51,
      "outputs": [
        {
          "output_type": "execute_result",
          "data": {
            "text/plain": [
              "176.08601087935276"
            ]
          },
          "metadata": {},
          "execution_count": 51
        }
      ]
    },
    {
      "cell_type": "markdown",
      "metadata": {
        "id": "6PRwZs3uUQR_"
      },
      "source": [
        "**Ответ:** Доверительный интервал для математического ожидания с надёжностью 0.95: $[172,31;176,09]$\n",
        "\n",
        "\n"
      ]
    }
  ]
}