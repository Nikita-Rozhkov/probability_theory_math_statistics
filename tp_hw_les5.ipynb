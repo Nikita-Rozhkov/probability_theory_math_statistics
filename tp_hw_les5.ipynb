{
  "nbformat": 4,
  "nbformat_minor": 0,
  "metadata": {
    "colab": {
      "name": "tp_hw_les5.ipynb",
      "provenance": [],
      "collapsed_sections": []
    },
    "kernelspec": {
      "name": "python3",
      "display_name": "Python 3"
    },
    "language_info": {
      "name": "python"
    }
  },
  "cells": [
    {
      "cell_type": "code",
      "metadata": {
        "id": "5Z6OFteEvDk2"
      },
      "source": [
        "import numpy as np"
      ],
      "execution_count": 36,
      "outputs": []
    },
    {
      "cell_type": "markdown",
      "metadata": {
        "id": "OD-MxtjEBw2E"
      },
      "source": [
        "# Домашнее задание к уроку 5\n"
      ]
    },
    {
      "cell_type": "markdown",
      "metadata": {
        "id": "AP9uy9u5CA7v"
      },
      "source": [
        "## Задание 1"
      ]
    },
    {
      "cell_type": "markdown",
      "metadata": {
        "id": "ndU8Bd-ACIWs"
      },
      "source": [
        "Известно, что генеральная совокупность распределена нормально\n",
        "со средним квадратическим отклонением, равным 16.\n",
        "Найти доверительный интервал для оценки математического ожидания a с надежностью 0.95,\n",
        "если выборочная средняя M = 80, а объем выборки n = 256."
      ]
    },
    {
      "cell_type": "code",
      "metadata": {
        "id": "8zxnViC9D43L"
      },
      "source": [
        "M = 80\n",
        "n = 256\n",
        "std = 16\n",
        "p = 0.95\n",
        "alpha = 1 - p"
      ],
      "execution_count": 37,
      "outputs": []
    },
    {
      "cell_type": "code",
      "metadata": {
        "colab": {
          "base_uri": "https://localhost:8080/"
        },
        "id": "4tOV3vPh0uFR",
        "outputId": "f14618bc-616b-4aa8-8d83-79e7301853da"
      },
      "source": [
        "# Используем z-критерий, поскольку среднеквадратичное отклонение известно\n",
        "# Из таблицы получаем значение z для alpha/2:\n",
        "print(alpha / 2)\n",
        "z = 1.96"
      ],
      "execution_count": 38,
      "outputs": [
        {
          "output_type": "stream",
          "text": [
            "0.025000000000000022\n"
          ],
          "name": "stdout"
        }
      ]
    },
    {
      "cell_type": "code",
      "metadata": {
        "id": "KvT4QaPs2ysj"
      },
      "source": [
        "# Стандартная ошибка среднего\n",
        "SE = std / n**0.5"
      ],
      "execution_count": 39,
      "outputs": []
    },
    {
      "cell_type": "code",
      "metadata": {
        "colab": {
          "base_uri": "https://localhost:8080/"
        },
        "id": "O1SOgiCo77nI",
        "outputId": "7a2bbac3-cc4f-4cc5-b834-eb6bbbb2ec5d"
      },
      "source": [
        "# Левая граница интервала\n",
        "int_left = M - z * SE\n",
        "int_left"
      ],
      "execution_count": 40,
      "outputs": [
        {
          "output_type": "execute_result",
          "data": {
            "text/plain": [
              "78.04"
            ]
          },
          "metadata": {},
          "execution_count": 40
        }
      ]
    },
    {
      "cell_type": "code",
      "metadata": {
        "colab": {
          "base_uri": "https://localhost:8080/"
        },
        "id": "glZ_c_Bc8P8F",
        "outputId": "50e99cce-555e-4520-b329-f22bbba714c8"
      },
      "source": [
        "# Правая граница интервала\n",
        "int_right = M + z * SE\n",
        "int_right"
      ],
      "execution_count": 41,
      "outputs": [
        {
          "output_type": "execute_result",
          "data": {
            "text/plain": [
              "81.96"
            ]
          },
          "metadata": {},
          "execution_count": 41
        }
      ]
    },
    {
      "cell_type": "markdown",
      "metadata": {
        "id": "fxUSrvJSFXc5"
      },
      "source": [
        "**Ответ**: Доверительный интервал для оценки математического ожидания с надёжностью 0.95: $[78,04;81,96]$"
      ]
    },
    {
      "cell_type": "markdown",
      "metadata": {
        "id": "02bIj1Q2QyyR"
      },
      "source": [
        "## Задание 2"
      ]
    },
    {
      "cell_type": "markdown",
      "metadata": {
        "id": "vzZN7KdIQ77v"
      },
      "source": [
        "В результате 10 независимых измерений некоторой величины X, выполненных с одинаковой точностью,\n",
        "получены опытные данные:\n",
        "6.9, 6.1, 6.2, 6.8, 7.5, 6.3, 6.4, 6.9, 6.7, 6.1\n",
        "Предполагая, что результаты измерений подчинены нормальному закону распределения вероятностей,\n",
        "оценить истинное значение величины X при помощи доверительного интервала, покрывающего это\n",
        "значение с доверительной вероятностью 0,95."
      ]
    },
    {
      "cell_type": "code",
      "metadata": {
        "id": "s1wnUhpGRi_u"
      },
      "source": [
        "n = 10\n",
        "x = np.array([6.9, 6.1, 6.2, 6.8, 7.5, 6.3, 6.4, 6.9, 6.7, 6.1])\n",
        "p = 0.95\n",
        "alpha = 1 - p"
      ],
      "execution_count": 42,
      "outputs": []
    },
    {
      "cell_type": "code",
      "metadata": {
        "colab": {
          "base_uri": "https://localhost:8080/"
        },
        "id": "b0bQf9b5AVV3",
        "outputId": "c195efd2-b353-46a9-cbca-5209319a839b"
      },
      "source": [
        "# Вычислим математическое ожидание для выборки\n",
        "M = np.mean(x)\n",
        "M"
      ],
      "execution_count": 43,
      "outputs": [
        {
          "output_type": "execute_result",
          "data": {
            "text/plain": [
              "6.590000000000001"
            ]
          },
          "metadata": {},
          "execution_count": 43
        }
      ]
    },
    {
      "cell_type": "code",
      "metadata": {
        "colab": {
          "base_uri": "https://localhost:8080/"
        },
        "id": "Ts0fdi5jAkmS",
        "outputId": "7dbcf10e-fa1e-473e-cf91-ab2b9218b0ee"
      },
      "source": [
        "# Вычислим несмещённое среднеквадратичное отклонение\n",
        "std = np.std(x, ddof = 1)\n",
        "std"
      ],
      "execution_count": 44,
      "outputs": [
        {
          "output_type": "execute_result",
          "data": {
            "text/plain": [
              "0.4508017549014448"
            ]
          },
          "metadata": {},
          "execution_count": 44
        }
      ]
    },
    {
      "cell_type": "code",
      "metadata": {
        "colab": {
          "base_uri": "https://localhost:8080/"
        },
        "id": "BG_gHqWMLjsl",
        "outputId": "9af3f837-2546-4fa1-fffc-e24fcfc54aac"
      },
      "source": [
        "# Используем критерий Стьюдента, поскольку среднеквадратичное отклонение неизвестно\n",
        "# Из таблицы получаем значение t для alpha/2 и 9 степеней свободы:\n",
        "print(alpha / 2)\n",
        "t = 2.262"
      ],
      "execution_count": 45,
      "outputs": [
        {
          "output_type": "stream",
          "text": [
            "0.025000000000000022\n"
          ],
          "name": "stdout"
        }
      ]
    },
    {
      "cell_type": "code",
      "metadata": {
        "id": "jX640hmsMnIe"
      },
      "source": [
        "# Стандартная ошибка среднего\n",
        "SE = std / n**0.5"
      ],
      "execution_count": 46,
      "outputs": []
    },
    {
      "cell_type": "code",
      "metadata": {
        "colab": {
          "base_uri": "https://localhost:8080/"
        },
        "id": "Yll01A1lMs_J",
        "outputId": "43dc77ed-01b9-4241-90ad-d2cec0e7ecd2"
      },
      "source": [
        "# Левая граница интервала\n",
        "int_left = M - t * SE\n",
        "int_left"
      ],
      "execution_count": 47,
      "outputs": [
        {
          "output_type": "execute_result",
          "data": {
            "text/plain": [
              "6.267538255912426"
            ]
          },
          "metadata": {},
          "execution_count": 47
        }
      ]
    },
    {
      "cell_type": "code",
      "metadata": {
        "colab": {
          "base_uri": "https://localhost:8080/"
        },
        "id": "-KDo5NbBM0Ov",
        "outputId": "d2b44974-f92b-4707-a39a-593ec60850f8"
      },
      "source": [
        "# Правая граница интервала\n",
        "int_right = M + t * SE\n",
        "int_right"
      ],
      "execution_count": 48,
      "outputs": [
        {
          "output_type": "execute_result",
          "data": {
            "text/plain": [
              "6.912461744087575"
            ]
          },
          "metadata": {},
          "execution_count": 48
        }
      ]
    },
    {
      "cell_type": "markdown",
      "metadata": {
        "id": "AB8rogV9Scr4"
      },
      "source": [
        "**Ответ:** Доверительный интервал для величины $X$ с вероятностью 0.95: $[6,267;6,912]$"
      ]
    },
    {
      "cell_type": "markdown",
      "metadata": {
        "id": "OrlNPUpgS04x"
      },
      "source": [
        "## Задание 3"
      ]
    },
    {
      "cell_type": "markdown",
      "metadata": {
        "id": "a1cggWUzS9hp"
      },
      "source": [
        "Утверждается, что шарики для подшипников, изготовленные автоматическим станком, имеют средний диаметр 17 мм.\n",
        "Используя односторонний критерий с α=0,05, проверить эту гипотезу, если в выборке из n=100 шариков средний диаметр\n",
        "оказался равным 17.5 мм, а дисперсия известна и равна 4 кв. мм."
      ]
    },
    {
      "cell_type": "code",
      "metadata": {
        "id": "QEkdsAcMTyF5"
      },
      "source": [
        "mu_0 = 17\n",
        "mu = 17.5\n",
        "alpha = 0.05\n",
        "n = 100\n",
        "D = 4"
      ],
      "execution_count": 49,
      "outputs": []
    },
    {
      "cell_type": "markdown",
      "metadata": {
        "id": "YhSePN0BWZgN"
      },
      "source": [
        "Гипотеза $H_0: \\mu = \\mu_0$<br>\n",
        "Гипотеза $H_1: \\mu > \\mu_0$"
      ]
    },
    {
      "cell_type": "code",
      "metadata": {
        "id": "k6kgktv3XM49"
      },
      "source": [
        "# Используем z-критерий, поскольку среднеквадратичное отклонение известно\n",
        "# Из таблицы для 0.95 получаем значение z\n",
        "z = 1.65"
      ],
      "execution_count": 50,
      "outputs": []
    },
    {
      "cell_type": "code",
      "metadata": {
        "id": "vVmEPg6VYee7"
      },
      "source": [
        "# Стандартная ошибка\n",
        "SE = D**0.5 / n**0.5"
      ],
      "execution_count": 51,
      "outputs": []
    },
    {
      "cell_type": "code",
      "metadata": {
        "colab": {
          "base_uri": "https://localhost:8080/"
        },
        "id": "jFU0mx9MZCUl",
        "outputId": "c71338b1-b154-40cc-bef3-e95b341e1eaa"
      },
      "source": [
        "(mu - mu_0) / SE"
      ],
      "execution_count": 52,
      "outputs": [
        {
          "output_type": "execute_result",
          "data": {
            "text/plain": [
              "2.5"
            ]
          },
          "metadata": {},
          "execution_count": 52
        }
      ]
    },
    {
      "cell_type": "markdown",
      "metadata": {
        "id": "eLbUAJsxZRP0"
      },
      "source": [
        "Т.к. 2,5 > 1,65, то верна гипотеза $H_1$"
      ]
    },
    {
      "cell_type": "markdown",
      "metadata": {
        "id": "6PRwZs3uUQR_"
      },
      "source": [
        "**Ответ:** Гипотеза $H_1$ верна на уровне значимости 0,95\n",
        "\n",
        "---\n",
        "\n"
      ]
    },
    {
      "cell_type": "markdown",
      "metadata": {
        "id": "AWlVNVMvUx3O"
      },
      "source": [
        "## Задание 4"
      ]
    },
    {
      "cell_type": "markdown",
      "metadata": {
        "id": "BoLLwvFFU3jx"
      },
      "source": [
        "Продавец утверждает, что средний вес пачки печенья составляет 200 г.\n",
        "Из партии извлечена выборка из 10 пачек. Вес каждой пачки составляет:\n",
        "202, 203, 199, 197, 195, 201, 200, 204, 194, 190.\n",
        "Известно, что их веса распределены нормально.\n",
        "Верно ли утверждение продавца, если учитывать, что доверительная вероятность равна 99%?"
      ]
    },
    {
      "cell_type": "code",
      "metadata": {
        "id": "DlKiQul-bJgd"
      },
      "source": [
        "mu_0 = 200\n",
        "alpha = 0.01\n",
        "n = 10\n",
        "x = np.array([202, 203, 199, 197, 195, 201, 200, 204, 194, 190])"
      ],
      "execution_count": 53,
      "outputs": []
    },
    {
      "cell_type": "markdown",
      "metadata": {
        "id": "YEb5E5jVc9am"
      },
      "source": [
        "Гипотеза $H_0: \\mu = \\mu_0$<br>\n",
        "Гипотеза $H_1: \\mu \\neq \\mu_0$"
      ]
    },
    {
      "cell_type": "code",
      "metadata": {
        "colab": {
          "base_uri": "https://localhost:8080/"
        },
        "id": "J01MDAhxjC0n",
        "outputId": "64d8abb3-598a-42a8-933a-2e9af08c8675"
      },
      "source": [
        "# Используем критерий Стьюдента, поскольку среднеквадратичное отклонение неизвестно\n",
        "# Из таблицы получаем значение t для alpha/2 и 9 степеней свободы:\n",
        "print(alpha / 2)\n",
        "t = 3.25"
      ],
      "execution_count": 54,
      "outputs": [
        {
          "output_type": "stream",
          "text": [
            "0.005\n"
          ],
          "name": "stdout"
        }
      ]
    },
    {
      "cell_type": "code",
      "metadata": {
        "colab": {
          "base_uri": "https://localhost:8080/"
        },
        "id": "1PJqMaQCl6WG",
        "outputId": "248e26fa-a162-4fa4-e6f2-c11e26256c8e"
      },
      "source": [
        "# Вычислим математическое ожидание для выборки\n",
        "mu = np.mean(x)\n",
        "mu"
      ],
      "execution_count": 55,
      "outputs": [
        {
          "output_type": "execute_result",
          "data": {
            "text/plain": [
              "198.5"
            ]
          },
          "metadata": {},
          "execution_count": 55
        }
      ]
    },
    {
      "cell_type": "code",
      "metadata": {
        "colab": {
          "base_uri": "https://localhost:8080/"
        },
        "id": "Ti2TFsp4mAUF",
        "outputId": "e93e5f09-866b-4816-a006-5ff51741c748"
      },
      "source": [
        "# Вычислим несмещённое среднеквадратичное отклонение\n",
        "std = np.std(x, ddof = 1)\n",
        "std"
      ],
      "execution_count": 56,
      "outputs": [
        {
          "output_type": "execute_result",
          "data": {
            "text/plain": [
              "4.453463071962462"
            ]
          },
          "metadata": {},
          "execution_count": 56
        }
      ]
    },
    {
      "cell_type": "code",
      "metadata": {
        "id": "fM3Z6L55mrJj"
      },
      "source": [
        "# Стандартная ошибка среднего\n",
        "SE = std / n**0.5"
      ],
      "execution_count": 57,
      "outputs": []
    },
    {
      "cell_type": "code",
      "metadata": {
        "colab": {
          "base_uri": "https://localhost:8080/"
        },
        "id": "e8vCbojInE8E",
        "outputId": "d4f84038-ba15-4ab9-8f9c-e0f8968006aa"
      },
      "source": [
        "(mu - mu_0) / SE"
      ],
      "execution_count": 58,
      "outputs": [
        {
          "output_type": "execute_result",
          "data": {
            "text/plain": [
              "-1.0651074037450896"
            ]
          },
          "metadata": {},
          "execution_count": 58
        }
      ]
    },
    {
      "cell_type": "markdown",
      "metadata": {
        "id": "_1VEPBVendbF"
      },
      "source": [
        "Т.к. -1.065 попадает в интервал от -3.25 до 3.25, то гипотеза $H_0$ верна"
      ]
    },
    {
      "cell_type": "markdown",
      "metadata": {
        "id": "MPAh1TXUV4XF"
      },
      "source": [
        "**Ответ:** Гипотеза $H_0$ верна c доверительной вероятностью 0,99\n",
        "\n",
        "\n"
      ]
    }
  ]
}