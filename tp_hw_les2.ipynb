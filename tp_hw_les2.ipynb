{
  "nbformat": 4,
  "nbformat_minor": 0,
  "metadata": {
    "colab": {
      "name": "tp_hw_les2.ipynb",
      "provenance": [],
      "collapsed_sections": []
    },
    "kernelspec": {
      "name": "python3",
      "display_name": "Python 3"
    },
    "language_info": {
      "name": "python"
    }
  },
  "cells": [
    {
      "cell_type": "code",
      "metadata": {
        "id": "XCE-C_FWC7RZ"
      },
      "source": [
        "from math import factorial, exp"
      ],
      "execution_count": 9,
      "outputs": []
    },
    {
      "cell_type": "code",
      "metadata": {
        "id": "uSpaQ-WyDDHe"
      },
      "source": [
        "def combinations(n, k):\n",
        "    return int(factorial(n) / (factorial(k) * factorial(n - k)))"
      ],
      "execution_count": 10,
      "outputs": []
    },
    {
      "cell_type": "code",
      "metadata": {
        "id": "iQP7enVT_l0U"
      },
      "source": [
        "def bernoulli(n, k, p):\n",
        "  return combinations(n, k) * (p**k) * ((1 - p)**(n - k))"
      ],
      "execution_count": 11,
      "outputs": []
    },
    {
      "cell_type": "markdown",
      "metadata": {
        "id": "OD-MxtjEBw2E"
      },
      "source": [
        "# Домашнее задание к уроку 2\n"
      ]
    },
    {
      "cell_type": "markdown",
      "metadata": {
        "id": "AP9uy9u5CA7v"
      },
      "source": [
        "## Задание 1"
      ]
    },
    {
      "cell_type": "markdown",
      "metadata": {
        "id": "ndU8Bd-ACIWs"
      },
      "source": [
        "Вероятность того, что стрелок попадет в мишень, выстрелив один раз, равна 0.8. Стрелок выстрелил 100 раз. Найдите вероятность того, что стрелок попадет в цель ровно 85 раз."
      ]
    },
    {
      "cell_type": "markdown",
      "metadata": {
        "id": "OXcUfy2PCNOf"
      },
      "source": [
        "Воспользуемся формулой Бернулли"
      ]
    },
    {
      "cell_type": "code",
      "metadata": {
        "colab": {
          "base_uri": "https://localhost:8080/"
        },
        "id": "8zxnViC9D43L",
        "outputId": "c8e0f509-3564-432c-dca3-6d6c14ae9b8f"
      },
      "source": [
        "round(bernoulli(100, 85, 0.8), 4)"
      ],
      "execution_count": 12,
      "outputs": [
        {
          "output_type": "execute_result",
          "data": {
            "text/plain": [
              "0.0481"
            ]
          },
          "metadata": {
            "tags": []
          },
          "execution_count": 12
        }
      ]
    },
    {
      "cell_type": "markdown",
      "metadata": {
        "id": "fxUSrvJSFXc5"
      },
      "source": [
        "**Ответ**: вероятность попасть в цель 85 раз при 100 выстрелах равна 0,0481"
      ]
    },
    {
      "cell_type": "markdown",
      "metadata": {
        "id": "02bIj1Q2QyyR"
      },
      "source": [
        "## Задание 2"
      ]
    },
    {
      "cell_type": "markdown",
      "metadata": {
        "id": "vzZN7KdIQ77v"
      },
      "source": [
        "Вероятность того, что лампочка перегорит в течение первого дня эксплуатации, равна 0.0004. В жилом комплексе после ремонта в один день включили 5000 новых лампочек. Какова вероятность, что ни одна из них не перегорит в первый день? Какова вероятность, что перегорят ровно две?"
      ]
    },
    {
      "cell_type": "markdown",
      "metadata": {
        "id": "JwqDFxzHRIhF"
      },
      "source": [
        "Поскольку вероятность очень мала, то необходимо применять формулу Пуассона"
      ]
    },
    {
      "cell_type": "code",
      "metadata": {
        "colab": {
          "base_uri": "https://localhost:8080/"
        },
        "id": "s1wnUhpGRi_u",
        "outputId": "b2c42e47-4608-426e-f1fd-ac84c7f4a615"
      },
      "source": [
        "p = 0.0004\n",
        "n = 5000\n",
        "m = 0\n",
        "l = p * n\n",
        "P_m = ((l**m) / (factorial(m))) * exp((-1) * l)\n",
        "round(P_m, 3)"
      ],
      "execution_count": 15,
      "outputs": [
        {
          "output_type": "execute_result",
          "data": {
            "text/plain": [
              "0.135"
            ]
          },
          "metadata": {
            "tags": []
          },
          "execution_count": 15
        }
      ]
    },
    {
      "cell_type": "code",
      "metadata": {
        "colab": {
          "base_uri": "https://localhost:8080/"
        },
        "id": "ESQScpCJSM_Q",
        "outputId": "f37a8f7a-618e-4b7a-e57a-abbb2589d84c"
      },
      "source": [
        "p = 0.0004\n",
        "n = 5000\n",
        "m = 2\n",
        "l = p * n\n",
        "P_m = ((l**m) / (factorial(m))) * exp((-1) * l)\n",
        "round(P_m, 3)"
      ],
      "execution_count": 16,
      "outputs": [
        {
          "output_type": "execute_result",
          "data": {
            "text/plain": [
              "0.271"
            ]
          },
          "metadata": {
            "tags": []
          },
          "execution_count": 16
        }
      ]
    },
    {
      "cell_type": "markdown",
      "metadata": {
        "id": "AB8rogV9Scr4"
      },
      "source": [
        "**Ответ:** Вероятность того, что ни одна из лампочек не перегорит в первый день, равна 0,135. Вероятность того, что перегорят ровно две лампы, равна 0,271"
      ]
    },
    {
      "cell_type": "markdown",
      "metadata": {
        "id": "OrlNPUpgS04x"
      },
      "source": [
        "## Задание 3"
      ]
    },
    {
      "cell_type": "markdown",
      "metadata": {
        "id": "a1cggWUzS9hp"
      },
      "source": [
        "Монету подбросили 144 раза. Какова вероятность, что орел выпадет ровно 70 раз?"
      ]
    },
    {
      "cell_type": "markdown",
      "metadata": {
        "id": "u_K3V70kTPtV"
      },
      "source": [
        "Вычислим вероятность данного события по формуле Бернулли"
      ]
    },
    {
      "cell_type": "code",
      "metadata": {
        "colab": {
          "base_uri": "https://localhost:8080/"
        },
        "id": "M6We-PsvT7c7",
        "outputId": "2a8f873e-6b43-4e74-bf96-b76b779c49de"
      },
      "source": [
        "round(bernoulli(144, 70, 0.5), 3)"
      ],
      "execution_count": 17,
      "outputs": [
        {
          "output_type": "execute_result",
          "data": {
            "text/plain": [
              "0.063"
            ]
          },
          "metadata": {
            "tags": []
          },
          "execution_count": 17
        }
      ]
    },
    {
      "cell_type": "markdown",
      "metadata": {
        "id": "6PRwZs3uUQR_"
      },
      "source": [
        "**Ответ:** Вероятность выпадания орла 70 раз при 144 подбрасованиях равна 0,063"
      ]
    },
    {
      "cell_type": "markdown",
      "metadata": {
        "id": "AWlVNVMvUx3O"
      },
      "source": [
        "## Задание 4"
      ]
    },
    {
      "cell_type": "markdown",
      "metadata": {
        "id": "BoLLwvFFU3jx"
      },
      "source": [
        "В первом ящике находится 10 мячей, из которых 7 - белые. Во втором ящике - 11 мячей, из которых 9 белых. Из каждого ящика вытаскивают случайным образом по два мяча. Какова вероятность того, что все мячи белые? Какова вероятность того, что ровно два мяча белые? Какова вероятность того, что хотя бы один мяч белый?"
      ]
    },
    {
      "cell_type": "markdown",
      "metadata": {
        "id": "-WDYfszRU-vL"
      },
      "source": [
        "Используем условную вероятность"
      ]
    },
    {
      "cell_type": "code",
      "metadata": {
        "colab": {
          "base_uri": "https://localhost:8080/"
        },
        "id": "maypTTGcVoea",
        "outputId": "4e7ac76a-1397-40fa-8021-138d2a103af7"
      },
      "source": [
        "round(((7 / 10) * (6 / 9)) * ((9 / 11) * (8 / 10)), 3)"
      ],
      "execution_count": 20,
      "outputs": [
        {
          "output_type": "execute_result",
          "data": {
            "text/plain": [
              "0.305"
            ]
          },
          "metadata": {
            "tags": []
          },
          "execution_count": 20
        }
      ]
    },
    {
      "cell_type": "markdown",
      "metadata": {
        "id": "MPAh1TXUV4XF"
      },
      "source": [
        "**Ответ:** Вероятность того, что все мячи белые, равна 0,305"
      ]
    }
  ]
}