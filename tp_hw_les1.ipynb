{
  "nbformat": 4,
  "nbformat_minor": 0,
  "metadata": {
    "colab": {
      "name": "tp_hw_les1.ipynb",
      "provenance": [],
      "collapsed_sections": []
    },
    "kernelspec": {
      "name": "python3",
      "display_name": "Python 3"
    },
    "language_info": {
      "name": "python"
    }
  },
  "cells": [
    {
      "cell_type": "code",
      "metadata": {
        "id": "XCE-C_FWC7RZ"
      },
      "source": [
        "from math import factorial"
      ],
      "execution_count": 23,
      "outputs": []
    },
    {
      "cell_type": "code",
      "metadata": {
        "id": "uSpaQ-WyDDHe"
      },
      "source": [
        "def combinations(n, k):\n",
        "    return int(factorial(n) / (factorial(k) * factorial(n - k)))"
      ],
      "execution_count": 24,
      "outputs": []
    },
    {
      "cell_type": "markdown",
      "metadata": {
        "id": "OD-MxtjEBw2E"
      },
      "source": [
        "# Домашнее задание к уроку 1\n"
      ]
    },
    {
      "cell_type": "markdown",
      "metadata": {
        "id": "AP9uy9u5CA7v"
      },
      "source": [
        "## Задание 1"
      ]
    },
    {
      "cell_type": "markdown",
      "metadata": {
        "id": "ndU8Bd-ACIWs"
      },
      "source": [
        "Из колоды в 52 карты извлекаются случайным образом 4 карты."
      ]
    },
    {
      "cell_type": "markdown",
      "metadata": {
        "id": "OXcUfy2PCNOf"
      },
      "source": [
        "**а)** Найти вероятность того, что все карты – крести."
      ]
    },
    {
      "cell_type": "markdown",
      "metadata": {
        "id": "RX3JiMYgDNdH"
      },
      "source": [
        "Вычислим число благоприятных исходов (сочетание крестовых карт)"
      ]
    },
    {
      "cell_type": "code",
      "metadata": {
        "colab": {
          "base_uri": "https://localhost:8080/"
        },
        "id": "8zxnViC9D43L",
        "outputId": "6b60f5c0-3158-484b-cf2e-b61b090db84a"
      },
      "source": [
        "M = combinations(13, 4)\n",
        "M"
      ],
      "execution_count": 25,
      "outputs": [
        {
          "output_type": "execute_result",
          "data": {
            "text/plain": [
              "715"
            ]
          },
          "metadata": {
            "tags": []
          },
          "execution_count": 25
        }
      ]
    },
    {
      "cell_type": "markdown",
      "metadata": {
        "id": "809JgNGHETTq"
      },
      "source": [
        "Вычислим число всех исходов (сочетание любых четырёх карт из 52)"
      ]
    },
    {
      "cell_type": "code",
      "metadata": {
        "colab": {
          "base_uri": "https://localhost:8080/"
        },
        "id": "vlONdY29EuNy",
        "outputId": "bf30fc22-5e9c-4213-c98c-e170148e0505"
      },
      "source": [
        "N = combinations(52, 4)\n",
        "N"
      ],
      "execution_count": 26,
      "outputs": [
        {
          "output_type": "execute_result",
          "data": {
            "text/plain": [
              "270725"
            ]
          },
          "metadata": {
            "tags": []
          },
          "execution_count": 26
        }
      ]
    },
    {
      "cell_type": "markdown",
      "metadata": {
        "id": "e-TqVG3KE27C"
      },
      "source": [
        "Вычислим вероятность"
      ]
    },
    {
      "cell_type": "code",
      "metadata": {
        "colab": {
          "base_uri": "https://localhost:8080/"
        },
        "id": "pr0kwyiNFFAI",
        "outputId": "255b0ac9-ea42-4727-a756-6821721e41ef"
      },
      "source": [
        "round(M / N, 5)"
      ],
      "execution_count": 27,
      "outputs": [
        {
          "output_type": "execute_result",
          "data": {
            "text/plain": [
              "0.00264"
            ]
          },
          "metadata": {
            "tags": []
          },
          "execution_count": 27
        }
      ]
    },
    {
      "cell_type": "markdown",
      "metadata": {
        "id": "fxUSrvJSFXc5"
      },
      "source": [
        "**Ответ**: вероятность извлечь 4 крестовые карты 0,00264"
      ]
    },
    {
      "cell_type": "markdown",
      "metadata": {
        "id": "TJvlAwIZNYcp"
      },
      "source": [
        "**б)** Найти вероятность, что среди 4-х карт окажется хотя бы один туз."
      ]
    },
    {
      "cell_type": "markdown",
      "metadata": {
        "id": "g4WuSGs_N1x9"
      },
      "source": [
        "Вычислим число сочетаний карт без тузов"
      ]
    },
    {
      "cell_type": "code",
      "metadata": {
        "colab": {
          "base_uri": "https://localhost:8080/"
        },
        "id": "ENRY2On9Okmy",
        "outputId": "36cd5bfa-afaf-4e7c-8046-bdb8df692aa5"
      },
      "source": [
        "K = combinations(48, 4)\n",
        "K"
      ],
      "execution_count": 28,
      "outputs": [
        {
          "output_type": "execute_result",
          "data": {
            "text/plain": [
              "194580"
            ]
          },
          "metadata": {
            "tags": []
          },
          "execution_count": 28
        }
      ]
    },
    {
      "cell_type": "markdown",
      "metadata": {
        "id": "VoX42GzsO1ou"
      },
      "source": [
        "Число всех исходов уже вычислено в пункте а, поэтому можно посчитать вероятность выбора четырёх карт без тузов"
      ]
    },
    {
      "cell_type": "code",
      "metadata": {
        "colab": {
          "base_uri": "https://localhost:8080/"
        },
        "id": "-3FkiLccPU3f",
        "outputId": "99271ea2-ee97-4617-d2b8-269cb22647c0"
      },
      "source": [
        "P = K / N\n",
        "P"
      ],
      "execution_count": 29,
      "outputs": [
        {
          "output_type": "execute_result",
          "data": {
            "text/plain": [
              "0.7187367254594146"
            ]
          },
          "metadata": {
            "tags": []
          },
          "execution_count": 29
        }
      ]
    },
    {
      "cell_type": "markdown",
      "metadata": {
        "id": "AVBLQ0JfPwgv"
      },
      "source": [
        "Вычислим вероятность обратного события (извлечение четырёх карт, среди которых есть 1, 2, 3 или 4 туза)"
      ]
    },
    {
      "cell_type": "code",
      "metadata": {
        "colab": {
          "base_uri": "https://localhost:8080/"
        },
        "id": "DiU-9eqfQLSz",
        "outputId": "d7f05588-58f7-40ed-d4c7-a839306b460a"
      },
      "source": [
        "round(1 - P, 3)"
      ],
      "execution_count": 30,
      "outputs": [
        {
          "output_type": "execute_result",
          "data": {
            "text/plain": [
              "0.281"
            ]
          },
          "metadata": {
            "tags": []
          },
          "execution_count": 30
        }
      ]
    },
    {
      "cell_type": "markdown",
      "metadata": {
        "id": "WkuyGPQ3QUo1"
      },
      "source": [
        "**Ответ:** Вероятность извлечения четырёх карт с хотя бы одним тузом равна 0,281 "
      ]
    },
    {
      "cell_type": "markdown",
      "metadata": {
        "id": "02bIj1Q2QyyR"
      },
      "source": [
        "## Задание 2"
      ]
    },
    {
      "cell_type": "markdown",
      "metadata": {
        "id": "vzZN7KdIQ77v"
      },
      "source": [
        "На входной двери подъезда установлен кодовый замок, содержащий десять кнопок с цифрами от 0 до 9. Код содержит три цифры, которые нужно нажать одновременно. Какова вероятность того, что человек, не знающий код, откроет дверь с первой попытки?"
      ]
    },
    {
      "cell_type": "markdown",
      "metadata": {
        "id": "JwqDFxzHRIhF"
      },
      "source": [
        "Вычислим число всех возможных исходов, т.е. количество комбинаций трёхзначного кода из десяти чисел"
      ]
    },
    {
      "cell_type": "code",
      "metadata": {
        "colab": {
          "base_uri": "https://localhost:8080/"
        },
        "id": "s1wnUhpGRi_u",
        "outputId": "f8520a58-a0b1-4383-f709-423b166eb2fd"
      },
      "source": [
        "N = combinations(10, 3)\n",
        "N"
      ],
      "execution_count": 31,
      "outputs": [
        {
          "output_type": "execute_result",
          "data": {
            "text/plain": [
              "120"
            ]
          },
          "metadata": {
            "tags": []
          },
          "execution_count": 31
        }
      ]
    },
    {
      "cell_type": "markdown",
      "metadata": {
        "id": "NAGqaX_tR5b6"
      },
      "source": [
        "Правильный код существует только один (1 благоприятный исход). Вычислим вероятность"
      ]
    },
    {
      "cell_type": "code",
      "metadata": {
        "colab": {
          "base_uri": "https://localhost:8080/"
        },
        "id": "ESQScpCJSM_Q",
        "outputId": "62d96ca6-1bc0-4463-9c8a-44621f7fc091"
      },
      "source": [
        "round(1 / N, 3)"
      ],
      "execution_count": 32,
      "outputs": [
        {
          "output_type": "execute_result",
          "data": {
            "text/plain": [
              "0.008"
            ]
          },
          "metadata": {
            "tags": []
          },
          "execution_count": 32
        }
      ]
    },
    {
      "cell_type": "markdown",
      "metadata": {
        "id": "AB8rogV9Scr4"
      },
      "source": [
        "**Ответ:** Вероятность открыть дверь с первой попытки (не зная код) равна 0,008"
      ]
    },
    {
      "cell_type": "markdown",
      "metadata": {
        "id": "OrlNPUpgS04x"
      },
      "source": [
        "## Задание 3"
      ]
    },
    {
      "cell_type": "markdown",
      "metadata": {
        "id": "a1cggWUzS9hp"
      },
      "source": [
        "В ящике имеется 15 деталей, из которых 9 окрашены. Рабочий случайным образом извлекает 3 детали. Какова вероятность того, что все извлеченные детали окрашены?"
      ]
    },
    {
      "cell_type": "markdown",
      "metadata": {
        "id": "u_K3V70kTPtV"
      },
      "source": [
        "Вычислим вероятность, разделив число благоприятных исходов (извлечь 3 детали из девяти окрашенных) на число всех исходов (число комбинаций извлечь 3 детали из 15)"
      ]
    },
    {
      "cell_type": "code",
      "metadata": {
        "colab": {
          "base_uri": "https://localhost:8080/"
        },
        "id": "M6We-PsvT7c7",
        "outputId": "f238422f-1257-4f03-de09-38c188803e9e"
      },
      "source": [
        "round(combinations(9, 3) / combinations(15, 3), 3)"
      ],
      "execution_count": 33,
      "outputs": [
        {
          "output_type": "execute_result",
          "data": {
            "text/plain": [
              "0.185"
            ]
          },
          "metadata": {
            "tags": []
          },
          "execution_count": 33
        }
      ]
    },
    {
      "cell_type": "markdown",
      "metadata": {
        "id": "6PRwZs3uUQR_"
      },
      "source": [
        "**Ответ:** Вероятность того, что три извлечённые детали окрашены, равна 0,185"
      ]
    },
    {
      "cell_type": "markdown",
      "metadata": {
        "id": "AWlVNVMvUx3O"
      },
      "source": [
        "## Задание 4"
      ]
    },
    {
      "cell_type": "markdown",
      "metadata": {
        "id": "BoLLwvFFU3jx"
      },
      "source": [
        "В лотерее 100 билетов. Из них 2 выигрышных. Какова вероятность того, что 2 приобретенных билета окажутся выигрышными?"
      ]
    },
    {
      "cell_type": "markdown",
      "metadata": {
        "id": "-WDYfszRU-vL"
      },
      "source": [
        "Вычислим вероятность (число благоприятных исходов - 1, число всех исходов - комбинации двух билетов из 100)"
      ]
    },
    {
      "cell_type": "code",
      "metadata": {
        "colab": {
          "base_uri": "https://localhost:8080/"
        },
        "id": "maypTTGcVoea",
        "outputId": "7fbb686c-e438-404e-e891-a990deda3a71"
      },
      "source": [
        "round(1 / combinations(100, 2), 4)"
      ],
      "execution_count": 34,
      "outputs": [
        {
          "output_type": "execute_result",
          "data": {
            "text/plain": [
              "0.0002"
            ]
          },
          "metadata": {
            "tags": []
          },
          "execution_count": 34
        }
      ]
    },
    {
      "cell_type": "markdown",
      "metadata": {
        "id": "MPAh1TXUV4XF"
      },
      "source": [
        "**Ответ:** Вероятность приобретения двух выигрышных билетов равна 0,0002"
      ]
    }
  ]
}