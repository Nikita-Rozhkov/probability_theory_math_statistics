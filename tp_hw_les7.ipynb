{
  "nbformat": 4,
  "nbformat_minor": 0,
  "metadata": {
    "colab": {
      "name": "tp_hw_les7.ipynb",
      "provenance": [],
      "collapsed_sections": []
    },
    "kernelspec": {
      "name": "python3",
      "display_name": "Python 3"
    },
    "language_info": {
      "name": "python"
    }
  },
  "cells": [
    {
      "cell_type": "code",
      "metadata": {
        "id": "5Z6OFteEvDk2"
      },
      "source": [
        "import numpy as np"
      ],
      "execution_count": 86,
      "outputs": []
    },
    {
      "cell_type": "markdown",
      "metadata": {
        "id": "OD-MxtjEBw2E"
      },
      "source": [
        "# Домашнее задание к уроку 7\n"
      ]
    },
    {
      "cell_type": "markdown",
      "metadata": {
        "id": "AP9uy9u5CA7v"
      },
      "source": [
        "## Задание 1"
      ]
    },
    {
      "cell_type": "markdown",
      "metadata": {
        "id": "ndU8Bd-ACIWs"
      },
      "source": [
        "Даны значения величины заработной платы заемщиков банка (zp) и значения их поведенческого кредитного скоринга (ks): zp = [35, 45, 190, 200, 40, 70, 54, 150, 120, 110], ks = [401, 574, 874, 919, 459, 739, 653, 902, 746, 832]. Используя математические операции, посчитать коэффициенты линейной регрессии, приняв за X заработную плату (то есть, zp - признак), а за y - значения скорингового балла (то есть, ks - целевая переменная). Произвести расчет как с использованием intercept, так и без."
      ]
    },
    {
      "cell_type": "code",
      "metadata": {
        "id": "opIbQdiFyU_6"
      },
      "source": [
        "X = np.array([35, 45, 190, 200, 40, 70, 54, 150, 120, 110])\n",
        "y = np.array([401, 574, 874, 919, 459, 739, 653, 902, 746, 832]) "
      ],
      "execution_count": 87,
      "outputs": []
    },
    {
      "cell_type": "markdown",
      "metadata": {
        "id": "RK4y83ldgaom"
      },
      "source": [
        "Вычисление коэффициентов линейной регрессии **с intercept** (с помощью математических операций)"
      ]
    },
    {
      "cell_type": "code",
      "metadata": {
        "colab": {
          "base_uri": "https://localhost:8080/"
        },
        "id": "_vqEId1qy0j6",
        "outputId": "63a33e21-a928-4e71-fed2-9844965b7a30"
      },
      "source": [
        "n = len(X)\n",
        "n"
      ],
      "execution_count": 88,
      "outputs": [
        {
          "output_type": "execute_result",
          "data": {
            "text/plain": [
              "10"
            ]
          },
          "metadata": {},
          "execution_count": 88
        }
      ]
    },
    {
      "cell_type": "code",
      "metadata": {
        "colab": {
          "base_uri": "https://localhost:8080/"
        },
        "id": "7rPkZpm9zeW0",
        "outputId": "cbb0970f-f712-4397-a5f2-5089154369ec"
      },
      "source": [
        "# вычисление коэффициента b\n",
        "b = (np.mean(X * y) - np.mean(X) * np.mean(y)) / (np.mean(X ** 2) - np.mean(X) ** 2)\n",
        "b"
      ],
      "execution_count": 89,
      "outputs": [
        {
          "output_type": "execute_result",
          "data": {
            "text/plain": [
              "2.620538882402765"
            ]
          },
          "metadata": {},
          "execution_count": 89
        }
      ]
    },
    {
      "cell_type": "code",
      "metadata": {
        "colab": {
          "base_uri": "https://localhost:8080/"
        },
        "id": "UpYhC3H4ivVZ",
        "outputId": "9d5fcf3c-7073-4dc9-e95d-773357361f40"
      },
      "source": [
        "# вычисление коэффициента a\n",
        "a = np.mean(y) - b * np.mean(X)\n",
        "a"
      ],
      "execution_count": 90,
      "outputs": [
        {
          "output_type": "execute_result",
          "data": {
            "text/plain": [
              "444.1773573243596"
            ]
          },
          "metadata": {},
          "execution_count": 90
        }
      ]
    },
    {
      "cell_type": "markdown",
      "metadata": {
        "id": "KR1VxynxjgRR"
      },
      "source": [
        "Вычисление коэффициентов линейной регрессии **без intercept** (с помощью матричного метода)"
      ]
    },
    {
      "cell_type": "code",
      "metadata": {
        "colab": {
          "base_uri": "https://localhost:8080/"
        },
        "id": "2MElJ2JP5KQV",
        "outputId": "497e20cd-dc00-487e-c677-498cec03845a"
      },
      "source": [
        "# преобразование вектора-строки X в вектор-столбец\n",
        "X = X.reshape((10, 1))\n",
        "X\n"
      ],
      "execution_count": 91,
      "outputs": [
        {
          "output_type": "execute_result",
          "data": {
            "text/plain": [
              "array([[ 35],\n",
              "       [ 45],\n",
              "       [190],\n",
              "       [200],\n",
              "       [ 40],\n",
              "       [ 70],\n",
              "       [ 54],\n",
              "       [150],\n",
              "       [120],\n",
              "       [110]])"
            ]
          },
          "metadata": {},
          "execution_count": 91
        }
      ]
    },
    {
      "cell_type": "code",
      "metadata": {
        "colab": {
          "base_uri": "https://localhost:8080/"
        },
        "id": "c5nlVOKn7Bve",
        "outputId": "a641570a-195a-4b2f-f8b3-b5ef99b03ce0"
      },
      "source": [
        "# преобразование вектора-строки Y в вектор-столбец\n",
        "y = y.reshape((10, 1))\n",
        "y\n"
      ],
      "execution_count": 92,
      "outputs": [
        {
          "output_type": "execute_result",
          "data": {
            "text/plain": [
              "array([[401],\n",
              "       [574],\n",
              "       [874],\n",
              "       [919],\n",
              "       [459],\n",
              "       [739],\n",
              "       [653],\n",
              "       [902],\n",
              "       [746],\n",
              "       [832]])"
            ]
          },
          "metadata": {},
          "execution_count": 92
        }
      ]
    },
    {
      "cell_type": "code",
      "metadata": {
        "colab": {
          "base_uri": "https://localhost:8080/"
        },
        "id": "kO09K-XJkucY",
        "outputId": "617e524f-c81d-4cc6-aba1-ad1a31d142cf"
      },
      "source": [
        "# Вычисление коэффициента beta_1\n",
        "B = np.dot(np.linalg.inv(np.dot(X.T, X)), X.T @ y)\n",
        "B"
      ],
      "execution_count": 93,
      "outputs": [
        {
          "output_type": "execute_result",
          "data": {
            "text/plain": [
              "array([[5.88982042]])"
            ]
          },
          "metadata": {},
          "execution_count": 93
        }
      ]
    },
    {
      "cell_type": "markdown",
      "metadata": {
        "id": "fxUSrvJSFXc5"
      },
      "source": [
        "**Ответ**: Уравнение линейной регрессии **с intercept**: $y = 2,621x+444,177$<br>\n",
        "Уравнение линейной регрессии **без intercept**: $y=5,88x$\n"
      ]
    },
    {
      "cell_type": "markdown",
      "metadata": {
        "id": "02bIj1Q2QyyR"
      },
      "source": [
        "## Задание 2"
      ]
    },
    {
      "cell_type": "markdown",
      "metadata": {
        "id": "TPVKV0XSAg1C"
      },
      "source": [
        "Посчитать коэффициент линейной регрессии при заработной плате (zp), используя градиентный спуск (без intercept)."
      ]
    },
    {
      "cell_type": "code",
      "metadata": {
        "id": "s1wnUhpGRi_u"
      },
      "source": [
        "X = np.array([35, 45, 190, 200, 40, 70, 54, 150, 120, 110])\n",
        "y = np.array([401, 574, 874, 919, 459, 739, 653, 902, 746, 832]) "
      ],
      "execution_count": 94,
      "outputs": []
    },
    {
      "cell_type": "code",
      "metadata": {
        "id": "b0bQf9b5AVV3"
      },
      "source": [
        "# функция ошибок\n",
        "def mse_(B1, y = y, X = X, n = 10):\n",
        "  return np.sum((B1 * X - y) ** 2) / n"
      ],
      "execution_count": 95,
      "outputs": []
    },
    {
      "cell_type": "code",
      "metadata": {
        "id": "Ts0fdi5jAkmS"
      },
      "source": [
        "# начальное значение коэффициента beta_1\n",
        "B1 = 0.1\n",
        "# скорость обучения\n",
        "alpha = 1e-6"
      ],
      "execution_count": 96,
      "outputs": []
    },
    {
      "cell_type": "code",
      "metadata": {
        "colab": {
          "base_uri": "https://localhost:8080/"
        },
        "id": "BG_gHqWMLjsl",
        "outputId": "c2dc73c3-c375-43ff-8712-d9d446bbc3b4"
      },
      "source": [
        "for i in range(10000):\n",
        "  B1 -=alpha * (2 / n) * np.sum((B1 * X - y) * X)\n",
        "  if i % 1000 == 0:\n",
        "    print(f'Iteration: {i},B1 = {B1}, mse = {mse_(B1)}')\n"
      ],
      "execution_count": 97,
      "outputs": [
        {
          "output_type": "stream",
          "text": [
            "Iteration: 0,B1 = 0.25952808, mse = 493237.7212546963\n",
            "Iteration: 1000,B1 = 5.8898204201285544, mse = 56516.85841571941\n",
            "Iteration: 2000,B1 = 5.889820420132673, mse = 56516.85841571943\n",
            "Iteration: 3000,B1 = 5.889820420132673, mse = 56516.85841571943\n",
            "Iteration: 4000,B1 = 5.889820420132673, mse = 56516.85841571943\n",
            "Iteration: 5000,B1 = 5.889820420132673, mse = 56516.85841571943\n",
            "Iteration: 6000,B1 = 5.889820420132673, mse = 56516.85841571943\n",
            "Iteration: 7000,B1 = 5.889820420132673, mse = 56516.85841571943\n",
            "Iteration: 8000,B1 = 5.889820420132673, mse = 56516.85841571943\n",
            "Iteration: 9000,B1 = 5.889820420132673, mse = 56516.85841571943\n"
          ],
          "name": "stdout"
        }
      ]
    },
    {
      "cell_type": "markdown",
      "metadata": {
        "id": "AB8rogV9Scr4"
      },
      "source": [
        "**Ответ:** Уравнение линейной регрессии **без intercept**, полученное методом градиентного спуска: $y=5,88x$"
      ]
    },
    {
      "cell_type": "markdown",
      "metadata": {
        "id": "OrlNPUpgS04x"
      },
      "source": [
        "## Задание 3"
      ]
    },
    {
      "cell_type": "markdown",
      "metadata": {
        "id": "a1cggWUzS9hp"
      },
      "source": [
        "В каких случаях для вычисления доверительных интервалов и проверки статистических гипотез используется таблица значений функции Лапласа, а в каких - таблица критических точек распределения Стьюдента?"
      ]
    },
    {
      "cell_type": "markdown",
      "metadata": {
        "id": "6PRwZs3uUQR_"
      },
      "source": [
        "**Ответ:** 1) На таблице Лапласа основан z-критерий, который используется при проверке статистических гипотез в случае, если **известено** среднее квадратичное отклонение или дисперсия генеральной совокупности. <br>\n",
        "2) На таблице критических точек распределения Стьюдента основан критерий Стьюдента, который используется при проверке статистических гипотез в случае, если **не известно** среднее квадратичное отклонение или дисперсия генеральной совокупности. <br>\n",
        "\n"
      ]
    },
    {
      "cell_type": "markdown",
      "metadata": {
        "id": "2WFgm7l522cs"
      },
      "source": [
        "## Задание 4*"
      ]
    },
    {
      "cell_type": "markdown",
      "metadata": {
        "id": "pSKwfGk428jQ"
      },
      "source": [
        "Произвести вычисления как в пункте 2, но с вычислением intercept. Учесть, что изменение коэффициентов должно производиться на каждом шаге одновременно (то есть изменение одного коэффициента не должно влиять на изменение другого во время одной итерации)."
      ]
    },
    {
      "cell_type": "code",
      "metadata": {
        "id": "anrWICCV4cLk"
      },
      "source": [
        "X = np.array([35, 45, 190, 200, 40, 70, 54, 150, 120, 110])\n",
        "y = np.array([401, 574, 874, 919, 459, 739, 653, 902, 746, 832]) "
      ],
      "execution_count": 98,
      "outputs": []
    },
    {
      "cell_type": "code",
      "metadata": {
        "id": "M7uM_JKs3a_3"
      },
      "source": [
        "# коэффициенты beta_0 и beta_1\n",
        "B0 = 0.1\n",
        "B1 = 0.1"
      ],
      "execution_count": 99,
      "outputs": []
    },
    {
      "cell_type": "code",
      "metadata": {
        "id": "PRYd-dtv5-Iy"
      },
      "source": [
        "# скорость обучения\n",
        "alpha = 5e-5"
      ],
      "execution_count": 100,
      "outputs": []
    },
    {
      "cell_type": "code",
      "metadata": {
        "id": "lSoZMjpI34HP"
      },
      "source": [
        "# функция ошибок\n",
        "def mse_(B0, B1, y = y,X = X, n = 10):\n",
        "  return np.sum((B0 + B1 * X - y) ** 2) / n"
      ],
      "execution_count": 101,
      "outputs": []
    },
    {
      "cell_type": "code",
      "metadata": {
        "colab": {
          "base_uri": "https://localhost:8080/"
        },
        "id": "LI8Mmre94D8V",
        "outputId": "01bdc421-f279-40f2-95fa-e81ab761d64f"
      },
      "source": [
        "for i in range(750000):\n",
        "  y_p = B0 + B1 * X\n",
        "  B0 -=alpha * (2 / n) * np.sum((y_p - y))\n",
        "  B1 -=alpha * (2 / n) * np.sum((y_p - y) * X)\n",
        "  if i % 30000 == 0:\n",
        "    print(f'Iteration: {i},B_0 = {B0}, B1 = {B1}, mse = {mse_(B0, B1)}')"
      ],
      "execution_count": 102,
      "outputs": [
        {
          "output_type": "stream",
          "text": [
            "Iteration: 0,B_0 = 0.169966, B1 = 8.07539, mse = 122360.8044853729\n",
            "Iteration: 30000,B_0 = 236.72238797814268, B1 = 4.147499177901624, mse = 17387.534091270718\n",
            "Iteration: 60000,B_0 = 347.251033231717, B1 = 3.333959481314144, mse = 8853.523054754403\n",
            "Iteration: 90000,B_0 = 398.89180773391786, B1 = 2.9538605492800123, mse = 6990.625380056672\n",
            "Iteration: 120000,B_0 = 423.0192145710213, B1 = 2.7762721676196023, mse = 6583.971611794087\n",
            "Iteration: 150000,B_0 = 434.2919301004539, B1 = 2.6932999973691483, mse = 6495.202760188238\n",
            "Iteration: 180000,B_0 = 439.55872550311335, B1 = 2.654534054621566, mse = 6475.825320138674\n",
            "Iteration: 210000,B_0 = 442.01945767904283, B1 = 2.636421977854534, mse = 6471.595399664535\n",
            "Iteration: 240000,B_0 = 443.1691516349953, B1 = 2.6279597220298276, mse = 6470.672046157995\n",
            "Iteration: 270000,B_0 = 443.7063072853679, B1 = 2.6240060189529295, mse = 6470.4704864115965\n",
            "Iteration: 300000,B_0 = 443.9572751113981, B1 = 2.6221587847940984, mse = 6470.426487736031\n",
            "Iteration: 330000,B_0 = 444.07453134739086, B1 = 2.6212957270552315, mse = 6470.416883221804\n",
            "Iteration: 360000,B_0 = 444.1293153613275, B1 = 2.6208924924912536, mse = 6470.414786642939\n",
            "Iteration: 390000,B_0 = 444.15491134057004, B1 = 2.6207040947673956, mse = 6470.41432897867\n",
            "Iteration: 420000,B_0 = 444.1668701969311, B1 = 2.6206160722972642, mse = 6470.414229074688\n",
            "Iteration: 450000,B_0 = 444.1724575684503, B1 = 2.6205749467725648, mse = 6470.414207266549\n",
            "Iteration: 480000,B_0 = 444.1750680789819, B1 = 2.6205557322608786, mse = 6470.414202506026\n",
            "Iteration: 510000,B_0 = 444.1762877518153, B1 = 2.6205467549295762, mse = 6470.41420146685\n",
            "Iteration: 540000,B_0 = 444.17685760272957, B1 = 2.620542560574902, mse = 6470.4142012400025\n",
            "Iteration: 570000,B_0 = 444.1771238463115, B1 = 2.6205406009044263, mse = 6470.414201190486\n",
            "Iteration: 600000,B_0 = 444.177248239628, B1 = 2.6205396853146192, mse = 6470.414201179677\n",
            "Iteration: 630000,B_0 = 444.17730635820675, B1 = 2.6205392575361834, mse = 6470.41420117732\n",
            "Iteration: 660000,B_0 = 444.17733351214605, B1 = 2.620539057671185, mse = 6470.4142011768035\n",
            "Iteration: 690000,B_0 = 444.1773461989089, B1 = 2.620538964291002, mse = 6470.414201176691\n",
            "Iteration: 720000,B_0 = 444.17735212636813, B1 = 2.620538920662281, mse = 6470.414201176669\n"
          ],
          "name": "stdout"
        }
      ]
    },
    {
      "cell_type": "markdown",
      "metadata": {
        "id": "r4EGtArU8CNP"
      },
      "source": [
        "**Ответ**: Уравнение линейной регрессии **с intercept**, полученное методом градиентного спуска:: $y = 2,621x+444,177$"
      ]
    }
  ]
}